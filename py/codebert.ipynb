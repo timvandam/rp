{
 "cells": [
  {
   "cell_type": "code",
   "execution_count": 3,
   "metadata": {},
   "outputs": [
    {
     "data": {
      "text/plain": "Downloading:   0%|          | 0.00/504 [00:00<?, ?B/s]",
      "application/vnd.jupyter.widget-view+json": {
       "version_major": 2,
       "version_minor": 0,
       "model_id": "75935323b07b4e108f426eb42ed66d53"
      }
     },
     "metadata": {},
     "output_type": "display_data"
    },
    {
     "data": {
      "text/plain": "Downloading:   0%|          | 0.00/478M [00:00<?, ?B/s]",
      "application/vnd.jupyter.widget-view+json": {
       "version_major": 2,
       "version_minor": 0,
       "model_id": "c2d74e9725d04d45bfb4ca52f928874a"
      }
     },
     "metadata": {},
     "output_type": "display_data"
    },
    {
     "data": {
      "text/plain": "Downloading:   0%|          | 0.00/878k [00:00<?, ?B/s]",
      "application/vnd.jupyter.widget-view+json": {
       "version_major": 2,
       "version_minor": 0,
       "model_id": "486ec35edd474d62965b4c3f99855fea"
      }
     },
     "metadata": {},
     "output_type": "display_data"
    },
    {
     "data": {
      "text/plain": "Downloading:   0%|          | 0.00/446k [00:00<?, ?B/s]",
      "application/vnd.jupyter.widget-view+json": {
       "version_major": 2,
       "version_minor": 0,
       "model_id": "c525856040ee4220a1e67cfd2c9af9d3"
      }
     },
     "metadata": {},
     "output_type": "display_data"
    },
    {
     "data": {
      "text/plain": "Downloading:   0%|          | 0.00/150 [00:00<?, ?B/s]",
      "application/vnd.jupyter.widget-view+json": {
       "version_major": 2,
       "version_minor": 0,
       "model_id": "436f9ca9325d4d8985fd52e9d5d2e414"
      }
     },
     "metadata": {},
     "output_type": "display_data"
    },
    {
     "data": {
      "text/plain": "Downloading:   0%|          | 0.00/25.0 [00:00<?, ?B/s]",
      "application/vnd.jupyter.widget-view+json": {
       "version_major": 2,
       "version_minor": 0,
       "model_id": "e03722ee201d466b9c134723c4699eaa"
      }
     },
     "metadata": {},
     "output_type": "display_data"
    }
   ],
   "source": [
    "from transformers import RobertaConfig, RobertaTokenizer, RobertaForMaskedLM, pipeline\n",
    "\n",
    "model = RobertaForMaskedLM.from_pretrained(\"microsoft/codebert-base-mlm\")\n",
    "tokenizer = RobertaTokenizer.from_pretrained(\"microsoft/codebert-base-mlm\")"
   ]
  },
  {
   "cell_type": "code",
   "execution_count": null,
   "metadata": {},
   "outputs": [
    {
     "ename": "ModuleNotFoundError",
     "evalue": "No module named 'datasets'",
     "output_type": "error",
     "traceback": [
      "\u001B[0;31m---------------------------------------------------------------------------\u001B[0m",
      "\u001B[0;31mModuleNotFoundError\u001B[0m                       Traceback (most recent call last)",
      "\u001B[0;32m<ipython-input-2-1d0c6f15e94f>\u001B[0m in \u001B[0;36m<module>\u001B[0;34m\u001B[0m\n\u001B[0;32m----> 1\u001B[0;31m \u001B[0;32mfrom\u001B[0m \u001B[0mdatasets\u001B[0m \u001B[0;32mimport\u001B[0m \u001B[0mload_dataset\u001B[0m\u001B[0;34m\u001B[0m\u001B[0;34m\u001B[0m\u001B[0m\n\u001B[0m\u001B[1;32m      2\u001B[0m \u001B[0mdataset\u001B[0m \u001B[0;34m=\u001B[0m \u001B[0mload_dataset\u001B[0m\u001B[0;34m(\u001B[0m\u001B[0;34m\"code_search_net\"\u001B[0m\u001B[0;34m,\u001B[0m \u001B[0;34m\"javascript\"\u001B[0m\u001B[0;34m)\u001B[0m\u001B[0;34m\u001B[0m\u001B[0;34m\u001B[0m\u001B[0m\n\u001B[1;32m      3\u001B[0m \u001B[0;32mfor\u001B[0m \u001B[0mx\u001B[0m \u001B[0;32min\u001B[0m \u001B[0mdataset\u001B[0m\u001B[0;34m[\u001B[0m\u001B[0;34m'train'\u001B[0m\u001B[0;34m]\u001B[0m\u001B[0;34m:\u001B[0m\u001B[0;34m\u001B[0m\u001B[0;34m\u001B[0m\u001B[0m\n\u001B[1;32m      4\u001B[0m     \u001B[0mfn\u001B[0m \u001B[0;34m=\u001B[0m \u001B[0mx\u001B[0m\u001B[0;34m[\u001B[0m\u001B[0;34m'whole_func_string'\u001B[0m\u001B[0;34m]\u001B[0m\u001B[0;34m\u001B[0m\u001B[0;34m\u001B[0m\u001B[0m\n\u001B[1;32m      5\u001B[0m     \u001B[0;32mif\u001B[0m \u001B[0;32mnot\u001B[0m \u001B[0;34m'function'\u001B[0m \u001B[0;32min\u001B[0m \u001B[0mfn\u001B[0m\u001B[0;34m:\u001B[0m\u001B[0;34m\u001B[0m\u001B[0;34m\u001B[0m\u001B[0m\n",
      "\u001B[0;31mModuleNotFoundError\u001B[0m: No module named 'datasets'"
     ]
    }
   ],
   "source": [
    "from datasets import load_dataset\n",
    "dataset = load_dataset(\"code_search_net\", \"javascript\")\n",
    "for x in dataset['train']:\n",
    "    fn = x['whole_func_string']\n",
    "    if not 'function' in fn:\n",
    "        print('found a method:',x)\n",
    "        break"
   ]
  },
  {
   "cell_type": "code",
   "execution_count": 15,
   "metadata": {},
   "outputs": [
    {
     "name": "stdout",
     "output_type": "stream",
     "text": [
      "\n",
      "function countWords(str) {\n",
      "    \n",
      "}\n",
      "-------------\n",
      "\n",
      "function countWords(str) {\n",
      "    <mask>\n",
      "}\n",
      "-------------\n",
      "\n",
      "function countWords(str) {\n",
      "    return\n",
      "}\n",
      "\n",
      "function countWords(str) {\n",
      "    return\n",
      "}\n",
      "-------------\n",
      "\n",
      "function countWords(str) {\n",
      "    return<mask>\n",
      "}\n",
      "-------------\n",
      "\n",
      "function countWords(str) {\n",
      "    return 1\n",
      "}\n",
      "\n",
      "function countWords(str) {\n",
      "    return 1\n",
      "}\n",
      "-------------\n",
      "\n",
      "function countWords(str) {\n",
      "    return 1<mask>\n",
      "}\n",
      "-------------\n",
      "\n",
      "function countWords(str) {\n",
      "    return 1 //\n",
      "}\n",
      "\n",
      "function countWords(str) {\n",
      "    return 1 //\n",
      "}\n",
      "-------------\n",
      "\n",
      "function countWords(str) {\n",
      "    return 1 //<mask>\n",
      "}\n",
      "-------------\n",
      "\n",
      "function countWords(str) {\n",
      "    return 1 // //\n",
      "}\n",
      "\n",
      "function countWords(str) {\n",
      "    return 1 // //\n",
      "}\n",
      "-------------\n",
      "\n",
      "function countWords(str) {\n",
      "    return 1 // //<mask>\n",
      "}\n",
      "-------------\n",
      "\n",
      "function countWords(str) {\n",
      "    return 1 // // //\n",
      "}\n",
      "\n",
      "function countWords(str) {\n",
      "    return 1 // // //\n",
      "}\n",
      "-------------\n",
      "\n",
      "function countWords(str) {\n",
      "    return 1 // // //<mask>\n",
      "}\n",
      "-------------\n",
      "\n",
      "function countWords(str) {\n",
      "    return 1 // // // //\n",
      "}\n",
      "\n",
      "function countWords(str) {\n",
      "    return 1 // // // //\n",
      "}\n",
      "-------------\n",
      "\n",
      "function countWords(str) {\n",
      "    return 1 // // // //<mask>\n",
      "}\n",
      "-------------\n",
      "\n",
      "function countWords(str) {\n",
      "    return 1 // // // // //\n",
      "}\n",
      "\n",
      "function countWords(str) {\n",
      "    return 1 // // // // //\n",
      "}\n",
      "-------------\n",
      "\n",
      "function countWords(str) {\n",
      "    return 1 // // // // //<mask>\n",
      "}\n",
      "-------------\n",
      "\n",
      "function countWords(str) {\n",
      "    return 1 // // // // // //\n",
      "}\n",
      "\n",
      "function countWords(str) {\n",
      "    return 1 // // // // // //\n",
      "}\n",
      "-------------\n",
      "\n",
      "function countWords(str) {\n",
      "    return 1 // // // // // //<mask>\n",
      "}\n",
      "-------------\n",
      "\n",
      "function countWords(str) {\n",
      "    return 1 // // // // // // //\n",
      "}\n",
      "\n",
      "function countWords(str) {\n",
      "    return 1 // // // // // // //\n",
      "}\n",
      "-------------\n",
      "\n",
      "function countWords(str) {\n",
      "    return 1 // // // // // // //<mask>\n",
      "}\n",
      "-------------\n",
      "\n",
      "function countWords(str) {\n",
      "    return 1 // // // // // // // //\n",
      "}\n",
      "\n",
      "function countWords(str) {\n",
      "    return 1 // // // // // // // //\n",
      "}\n"
     ]
    }
   ],
   "source": [
    "CODE = \"if (x is not None) <mask> (x>1)\"\n",
    "fill_mask = pipeline('fill-mask', model=model, tokenizer=tokenizer)\n",
    "\n",
    "CODE = \"\"\"\n",
    "function countWords(str) {\n",
    "\n",
    "}\"\"\"\n",
    "\n",
    "for i in range(10):\n",
    "    print(CODE)\n",
    "    CODE = CODE[:-2] + \"<mask>\\n}\"\n",
    "    print(\"-------------\")\n",
    "    print(CODE)\n",
    "    CODE = CODE.replace(\"<mask>\", fill_mask(CODE)[0]['token_str'])\n",
    "    print(\"-------------\")\n",
    "    print(CODE)\n",
    "\n",
    "print(CODE)\n",
    "\n",
    "# outputs = fill_mask(CODE)\n",
    "# print([o['token_str'] for o in outputs])"
   ]
  },
  {
   "cell_type": "code",
   "execution_count": null,
   "outputs": [],
   "source": [],
   "metadata": {
    "collapsed": false,
    "pycharm": {
     "name": "#%%\n"
    }
   }
  }
 ],
 "metadata": {
  "interpreter": {
   "hash": "f2f554e625fc989c6d63701f77bd9e7d4bc38db807cd7cd8deffcea4c714e9ca"
  },
  "kernelspec": {
   "display_name": "Python 3",
   "language": "python",
   "name": "python3"
  },
  "language_info": {
   "codemirror_mode": {
    "name": "ipython",
    "version": 3
   },
   "file_extension": ".py",
   "mimetype": "text/x-python",
   "name": "python",
   "nbconvert_exporter": "python",
   "pygments_lexer": "ipython3",
   "version": "3.8.10"
  },
  "orig_nbformat": 4
 },
 "nbformat": 4,
 "nbformat_minor": 2
}