{
 "cells": [
  {
   "cell_type": "code",
   "execution_count": 3,
   "metadata": {},
   "outputs": [],
   "source": [
    "from transformers import RobertaConfig, RobertaTokenizer, RobertaForMaskedLM, pipeline\n",
    "\n",
    "model = RobertaForMaskedLM.from_pretrained(\"/home/tim/codebert-base-mlm/\", local_files_only=True)\n",
    "tokenizer = RobertaTokenizer.from_pretrained(\"/home/tim/codebert-base-mlm/\", local_files_only=True)"
   ]
  },
  {
   "cell_type": "code",
   "execution_count": 1,
   "metadata": {},
   "outputs": [
    {
     "name": "stderr",
     "output_type": "stream",
     "text": [
      "/usr/lib/python3/dist-packages/requests/__init__.py:89: RequestsDependencyWarning: urllib3 (1.26.9) or chardet (4.0.0) doesn't match a supported version!\n",
      "  warnings.warn(\"urllib3 ({}) or chardet ({}) doesn't match a supported \"\n",
      "Reusing dataset code_search_net (/home/tim/.cache/huggingface/datasets/code_search_net/javascript/1.0.0/80a244ab541c6b2125350b764dc5c2b715f65f00de7a56107a28915fac173a27)\n"
     ]
    },
    {
     "data": {
      "application/vnd.jupyter.widget-view+json": {
       "model_id": "c7046a19aa2a4539a3b73b7219523958",
       "version_major": 2,
       "version_minor": 0
      },
      "text/plain": [
       "  0%|          | 0/3 [00:00<?, ?it/s]"
      ]
     },
     "metadata": {},
     "output_type": "display_data"
    }
   ],
   "source": [
    "from datasets import load_dataset\n",
    "dataset = load_dataset(\"code_search_net\", \"javascript\")\n",
    "for x in dataset['train']:\n",
    "    fn = x['whole_func_string']\n",
    "    if not 'function' in fn:\n",
    "        print('found a method:',x)\n",
    "        break"
   ]
  },
  {
   "cell_type": "code",
   "execution_count": 16,
   "metadata": {},
   "outputs": [
    {
     "name": "stdout",
     "output_type": "stream",
     "text": [
      "[' //', '\\t', '//', ' /*', 'n']\n"
     ]
    }
   ],
   "source": [
    "CODE = \"if (x is not None) <mask> (x>1)\"\n",
    "fill_mask = pipeline('fill-mask', model=model, tokenizer=tokenizer)\n",
    "\n",
    "CODE = \"\"\"\n",
    "class EvenCardDistributionStrategy extends CardDistributionStrategy {\n",
    "  distributeCards(): void {\n",
    "    let previousM = 0;\n",
    "    while (true) {\n",
    "      const remainingCardIdentifiers: CardIdentifier[] = this.getCardIdentifiersWithCards();\n",
    "      const M = remainingCardIdentifiers.length;\n",
    "      if (M === 0 || M === previousM) {\n",
    "        break;\n",
    "      }\n",
    "      previousM = M;\n",
    "\n",
    "      let leastCommonCardCount = this.getLeastCommonCardCount();\n",
    "      if (leastCommonCardCount === 0) {\n",
    "        return;\n",
    "      }\n",
    "\n",
    "      const userQueue = this.createUserQueue();\n",
    "      while (userQueue.size()) {\n",
    "        const user = userQueue.pop() as User;\n",
    "\n",
    "        const userCardsOwed = this.setCompletionTrade.getOwedCardCountForUser(user);\n",
    "        const allocatedCardCount = Math.floor(leastCommonCardCount / Nc);\n",
    "        const desiredCardCount = Math.floor(userCardsOwed / M);\n",
    "        const cardCount = Math.min(allocatedCardCount, desiredCardCount);\n",
    "\n",
    "        this.setCompletionTrade.giveCardsToUser(user, cardCount, ...remainingCardIdentifiers);\n",
    "\n",
    "        leastCommonCardCount -= cardCount;\n",
    "      }\n",
    "    }\n",
    "  }\n",
    "}\n",
    "\n",
    "\"\"\"\n",
    "\n",
    "outputs = fill_mask(CODE)\n",
    "print([o['token_str'] for o in outputs])"
   ]
  }
 ],
 "metadata": {
  "interpreter": {
   "hash": "f2f554e625fc989c6d63701f77bd9e7d4bc38db807cd7cd8deffcea4c714e9ca"
  },
  "kernelspec": {
   "display_name": "Python 3.9.7 ('base')",
   "language": "python",
   "name": "python3"
  },
  "language_info": {
   "codemirror_mode": {
    "name": "ipython",
    "version": 3
   },
   "file_extension": ".py",
   "mimetype": "text/x-python",
   "name": "python",
   "nbconvert_exporter": "python",
   "pygments_lexer": "ipython3",
   "version": "3.8.10"
  },
  "orig_nbformat": 4
 },
 "nbformat": 4,
 "nbformat_minor": 2
}
